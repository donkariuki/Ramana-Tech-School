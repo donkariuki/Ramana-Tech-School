{
  "nbformat": 4,
  "nbformat_minor": 0,
  "metadata": {
    "colab": {
      "provenance": [],
      "authorship_tag": "ABX9TyPXsClyIlnA6LfKIb8yJHqk",
      "include_colab_link": true
    },
    "kernelspec": {
      "name": "python3",
      "display_name": "Python 3"
    },
    "language_info": {
      "name": "python"
    }
  },
  "cells": [
    {
      "cell_type": "markdown",
      "metadata": {
        "id": "view-in-github",
        "colab_type": "text"
      },
      "source": [
        "<a href=\"https://colab.research.google.com/github/donkariuki/Ramana-Tech-School/blob/main/Exceptions_in_python.ipynb\" target=\"_parent\"><img src=\"https://colab.research.google.com/assets/colab-badge.svg\" alt=\"Open In Colab\"/></a>"
      ]
    },
    {
      "cell_type": "code",
      "execution_count": 4,
      "metadata": {
        "colab": {
          "base_uri": "https://localhost:8080/"
        },
        "id": "O_h00qjFRD6N",
        "outputId": "0d42080b-d344-417c-80e7-44c0c2978421"
      },
      "outputs": [
        {
          "output_type": "stream",
          "name": "stdout",
          "text": [
            "What's x?cat\n",
            "x is not an integer\n"
          ]
        }
      ],
      "source": [
        "#errors handling\n",
        "try:\n",
        "    x= int(input(\"What's x?\"))\n",
        "    print(f\"x is {x}\")\n",
        "except ValueError:\n",
        "  print(\"x is not an integer\")"
      ]
    },
    {
      "cell_type": "markdown",
      "source": [
        "\n",
        "\n",
        "1.   Use of try and except to handle diffirent errors\n",
        "2.   Use  to known errors\n",
        "3.   Do not use one that masks all errors since it will hide bugs\n",
        "\n",
        "\n",
        "\n",
        "\n"
      ],
      "metadata": {
        "id": "G9O9vh42Tywj"
      }
    },
    {
      "cell_type": "code",
      "source": [
        "#error handling part II\n",
        "try:\n",
        "  y=int(input(\"What's y?\"))\n",
        "  print(f\"y is {y}\")\n",
        "except ValueError:\n",
        "  print(\"y is not an integer\")\n",
        "else:\n",
        "  print(f\"y is {y}\")"
      ],
      "metadata": {
        "colab": {
          "base_uri": "https://localhost:8080/"
        },
        "id": "217QynH9SXKg",
        "outputId": "40aede5d-f2a8-4cda-d8be-e75422a0e1cc"
      },
      "execution_count": 6,
      "outputs": [
        {
          "output_type": "stream",
          "name": "stdout",
          "text": [
            "What's y?y\n",
            "y is not an integer\n"
          ]
        }
      ]
    },
    {
      "cell_type": "markdown",
      "source": [
        "\n",
        "\n",
        "*   NameError here it comes due to order of running of code. Code is incorrect because value is handed to the right side of the code\n",
        "*   Else is used to solve\n",
        "\n"
      ],
      "metadata": {
        "id": "DTDsYTweVngT"
      }
    },
    {
      "cell_type": "code",
      "source": [
        "# better error handling code  III\n",
        "while True:\n",
        "  try:\n",
        "    z= int(input(\"What's is z \"))\n",
        "  except ValueError:\n",
        "    print(\"z is not an integer\")\n",
        "  else:\n",
        "    break\n",
        "\n",
        "print(f\"z is {z}\")\n"
      ],
      "metadata": {
        "colab": {
          "base_uri": "https://localhost:8080/"
        },
        "id": "6GHYLzD_VG_m",
        "outputId": "b47fcec4-d917-40b7-c987-b9a416f7d936"
      },
      "execution_count": 7,
      "outputs": [
        {
          "output_type": "stream",
          "name": "stdout",
          "text": [
            "What's is z bird\n",
            "z is not an integer\n",
            "What's is z y\n",
            "z is not an integer\n",
            "What's is z 5\n",
            "z is 5\n"
          ]
        }
      ]
    },
    {
      "cell_type": "markdown",
      "source": [
        "*  Else is associated with the try clause rather than the except\n",
        "*  Break is used to break out of loops\n"
      ],
      "metadata": {
        "id": "l1HE3vnvX-Er"
      }
    },
    {
      "cell_type": "code",
      "source": [
        "# put it in a function\n",
        "def main():\n",
        "  a= get_int()# you can use the prompt here\n",
        "  print(f\"a is {a}\")\n",
        "\n",
        "\n",
        "def get_int():\n",
        "  while True:\n",
        "    try:\n",
        "      a= int(input(\"What's a \")) #you can also use the return statement here\n",
        "\n",
        "    except ValueError:\n",
        "      print('a is not an integer') # you can also use pass\n",
        "    else:\n",
        "      break# this line can be totaly eliminated and replaced by the return statement which does both\n",
        "  return a\n",
        "\n",
        "  main()"
      ],
      "metadata": {
        "id": "3G1SoW9MX9Uz"
      },
      "execution_count": 11,
      "outputs": []
    },
    {
      "cell_type": "code",
      "source": [
        "get_int()"
      ],
      "metadata": {
        "colab": {
          "base_uri": "https://localhost:8080/"
        },
        "id": "RJHy8cA2aAmD",
        "outputId": "a846939d-6d2d-436c-eed0-6aa18146381e"
      },
      "execution_count": 12,
      "outputs": [
        {
          "name": "stdout",
          "output_type": "stream",
          "text": [
            "What's a 4\n"
          ]
        },
        {
          "output_type": "execute_result",
          "data": {
            "text/plain": [
              "4"
            ]
          },
          "metadata": {},
          "execution_count": 12
        }
      ]
    },
    {
      "cell_type": "markdown",
      "source": [
        "\n",
        "\n",
        "1.   Return can be used to break and return a value\n",
        "2.   You can also use pass rather than printing out again and again when handling the error\n",
        "3.  the main() or caller doesnt realize the error\n"
      ],
      "metadata": {
        "id": "0ktafgY5ajue"
      }
    },
    {
      "cell_type": "code",
      "source": [],
      "metadata": {
        "id": "Y5dovY_qaE5m"
      },
      "execution_count": null,
      "outputs": []
    }
  ]
}